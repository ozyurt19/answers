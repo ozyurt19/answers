{
 "cells": [
  {
   "cell_type": "code",
   "execution_count": 1,
   "metadata": {},
   "outputs": [],
   "source": [
    "import numpy as np\n",
    "import pandas as pd"
   ]
  },
  {
   "cell_type": "code",
   "execution_count": 2,
   "metadata": {},
   "outputs": [
    {
     "name": "stdout",
     "output_type": "stream",
     "text": [
      "     country        date  daily_vaccinations   vaccines\n",
      "0  Argentina  12/29/2020                 NaN  Sputnik V\n",
      "1  Argentina  12/30/2020             15656.0  Sputnik V\n",
      "2  Argentina  12/31/2020             15656.0  Sputnik V\n",
      "3  Argentina    1/1/2021             11070.0  Sputnik V\n",
      "4  Argentina    1/2/2021              8776.0  Sputnik V\n"
     ]
    }
   ],
   "source": [
    "vac_stats = pd.read_csv(\"country_vaccination_stats.csv\")\n",
    "print(vac_stats.head(5))"
   ]
  },
  {
   "attachments": {},
   "cell_type": "markdown",
   "metadata": {},
   "source": [
    "4 - Implement code to fill the missing data (impute) in daily_vaccinations column per country with the minimum daily vaccination number of relevant countries.  \n",
    "Note: If a country does not have any valid vaccination number yet, fill it with “0” (zero). "
   ]
  },
  {
   "cell_type": "code",
   "execution_count": 3,
   "metadata": {},
   "outputs": [
    {
     "name": "stdout",
     "output_type": "stream",
     "text": [
      "       country        date  daily_vaccinations                    vaccines\n",
      "0    Argentina  12/29/2020                 NaN                   Sputnik V\n",
      "28     Austria    1/5/2021                 NaN             Pfizer/BioNTech\n",
      "48     Bahrain  12/23/2020                 NaN  Pfizer/BioNTech, Sinopharm\n",
      "77     Belgium  12/28/2020                 NaN             Pfizer/BioNTech\n",
      "103     Brazil   1/16/2021                 NaN                     Sinovac\n"
     ]
    }
   ],
   "source": [
    "print(vac_stats[np.isnan(vac_stats[\"daily_vaccinations\"])].head(5))"
   ]
  },
  {
   "cell_type": "code",
   "execution_count": 4,
   "metadata": {},
   "outputs": [
    {
     "name": "stdout",
     "output_type": "stream",
     "text": [
      "    country        date  daily_vaccinations         vaccines\n",
      "750  Kuwait  12/28/2020                 0.0  Pfizer/BioNTech\n"
     ]
    }
   ],
   "source": [
    "vac_stats['daily_vaccinations'] = vac_stats.groupby('country', group_keys=False)['daily_vaccinations'].apply(lambda x: x.fillna(x.min() if x.min() > 0 else 0))\n",
    "\n",
    "print(vac_stats[vac_stats[\"daily_vaccinations\"] == 0])"
   ]
  },
  {
   "cell_type": "code",
   "execution_count": 5,
   "metadata": {},
   "outputs": [
    {
     "name": "stdout",
     "output_type": "stream",
     "text": [
      "Empty DataFrame\n",
      "Columns: [country, date, daily_vaccinations, vaccines]\n",
      "Index: []\n"
     ]
    }
   ],
   "source": [
    "print(vac_stats[np.isnan(vac_stats[\"daily_vaccinations\"])])"
   ]
  },
  {
   "attachments": {},
   "cell_type": "markdown",
   "metadata": {},
   "source": [
    "5 - 5th question was identical to 4th question while im filling the form :)"
   ]
  },
  {
   "attachments": {},
   "cell_type": "markdown",
   "metadata": {},
   "source": [
    "6 - Implement code to list the top-3 countries with highest median daily vaccination numbers by considering missing values imputed version of dataset."
   ]
  },
  {
   "cell_type": "code",
   "execution_count": 6,
   "metadata": {},
   "outputs": [
    {
     "name": "stdout",
     "output_type": "stream",
     "text": [
      "country\n",
      "United States    378253.0\n",
      "China            276786.0\n",
      "India            173922.0\n",
      "Name: daily_vaccinations, dtype: float64\n"
     ]
    }
   ],
   "source": [
    "median_vacs = vac_stats.groupby('country')['daily_vaccinations'].median()\n",
    "\n",
    "print(median_vacs.sort_values(ascending=False).head(3))"
   ]
  },
  {
   "attachments": {},
   "cell_type": "markdown",
   "metadata": {},
   "source": [
    "7 - What is the number of total vaccinations done on 1/6/2021 (MM/DD/YYYY) by considering missing values imputed version of dataset? Please  just provide the number as answer."
   ]
  },
  {
   "cell_type": "code",
   "execution_count": 7,
   "metadata": {},
   "outputs": [
    {
     "name": "stdout",
     "output_type": "stream",
     "text": [
      "1485255.0\n"
     ]
    }
   ],
   "source": [
    "print(vac_stats.groupby('date')[\"daily_vaccinations\"].sum()[\"1/6/2021\"])"
   ]
  },
  {
   "attachments": {},
   "cell_type": "markdown",
   "metadata": {},
   "source": [
    "8 - If this list would be a database table, please provide SQL query to fill in the missing daily vaccination numbers with discrete median of country as similar to question a.  \n",
    "Please  provide the link to your code as answer to this question. \n",
    "Note: This time SQL equivalent is requested, and imputation value is median of each country, not minimum. Please remember filling countries with zero if they do not have any valid daily_vaccination records like Kuwait."
   ]
  },
  {
   "attachments": {},
   "cell_type": "markdown",
   "metadata": {},
   "source": [
    "SOLUTION "
   ]
  },
  {
   "attachments": {},
   "cell_type": "markdown",
   "metadata": {},
   "source": [
    "UPDATE country_vaccination_stats AS main SET main.daily_vaccinations = IFNULL(\n",
    "  ( SELECT AVG(inner.daily_vaccinations) FROM country_vaccination_stats AS inner\n",
    "  WHERE inner.country = main.country AND inner.daily_vaccinations IS NOT NULL),\n",
    "  0\n",
    "  )\n",
    "WHERE main.daily_vaccinations IS NULL;"
   ]
  },
  {
   "attachments": {},
   "cell_type": "markdown",
   "metadata": {},
   "source": [
    "Explaination: For a table named country_vaccination_stats, inner query gets median vaccination numbers for the country outer query is updating, and outer query uses this data to fill null values. If inner query returns null, IFNULL returns 0 so we replace null value with 0 for that country.   "
   ]
  },
  {
   "attachments": {},
   "cell_type": "markdown",
   "metadata": {},
   "source": [
    "9 - Assume any database includes below columns and you are requested to process Stats_Access_Link column and extract pure url information inside per device type. \n",
    "\n",
    "    Rules: \n",
    "-   Xml tags and protocol parts is guaranteed to be lower case  \n",
    "-   Access link part that we are interested in can have alpha-numeric, case insensitive characters, underscore ( _ ) character and dot ( . ) character only.  \n",
    "\n",
    "What would you use for this task, please write your detailed answer with exact solution? Please  provide the link to your code as answer to this question \n",
    "\n",
    "Example: for the device type AXO145, we would like to get xcd32112.smart_meter.com regardless from its access protocol is SSL secured or not."
   ]
  },
  {
   "cell_type": "code",
   "execution_count": 8,
   "metadata": {},
   "outputs": [],
   "source": [
    "urls = pd.read_csv(\"url-table.csv\")"
   ]
  },
  {
   "cell_type": "code",
   "execution_count": 9,
   "metadata": {},
   "outputs": [
    {
     "name": "stdout",
     "output_type": "stream",
     "text": [
      "comb3_1.crown.com\n"
     ]
    }
   ],
   "source": [
    "def get_pure_url(input):\n",
    "    return input[input.find(\"://\") + 3 : input.find(\"</url>\")]\n",
    "\n",
    "# device_type = input(\"write device type\")\n",
    "device_type = \"ZOD231\"\n",
    "\n",
    "stats_access_link = urls[urls[\"Device_Type\"] == device_type][\"Stats_Access_Link\"].values[0]\n",
    "print(get_pure_url(stats_access_link))"
   ]
  },
  {
   "attachments": {},
   "cell_type": "markdown",
   "metadata": {},
   "source": [
    "Assuming we have got or extracted the data to a csv file, code above can get the intended pure url part according to intended device type. "
   ]
  }
 ],
 "metadata": {
  "kernelspec": {
   "display_name": "Python 3",
   "language": "python",
   "name": "python3"
  },
  "language_info": {
   "codemirror_mode": {
    "name": "ipython",
    "version": 3
   },
   "file_extension": ".py",
   "mimetype": "text/x-python",
   "name": "python",
   "nbconvert_exporter": "python",
   "pygments_lexer": "ipython3",
   "version": "3.11.2"
  },
  "orig_nbformat": 4
 },
 "nbformat": 4,
 "nbformat_minor": 2
}
